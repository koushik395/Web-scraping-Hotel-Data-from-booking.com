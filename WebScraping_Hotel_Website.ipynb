{
  "nbformat": 4,
  "nbformat_minor": 0,
  "metadata": {
    "colab": {
      "provenance": [],
      "authorship_tag": "ABX9TyPMBG7BH4HepsioCDk61SKy",
      "include_colab_link": true
    },
    "kernelspec": {
      "name": "python3",
      "display_name": "Python 3"
    },
    "language_info": {
      "name": "python"
    },
    "accelerator": "TPU",
    "gpuClass": "standard"
  },
  "cells": [
    {
      "cell_type": "markdown",
      "metadata": {
        "id": "view-in-github",
        "colab_type": "text"
      },
      "source": [
        "<a href=\"https://colab.research.google.com/github/koushik395/Web-scraping-Hotel-Data-from-booking.com/blob/main/WebScraping_Hotel_Website.ipynb\" target=\"_parent\"><img src=\"https://colab.research.google.com/assets/colab-badge.svg\" alt=\"Open In Colab\"/></a>"
      ]
    },
    {
      "cell_type": "markdown",
      "source": [
        "## Web Scraping Data From Booking.com using python and BeautifulSoup"
      ],
      "metadata": {
        "id": "QrXkcgqNu5pX"
      }
    },
    {
      "cell_type": "markdown",
      "source": [
        "### Import the neccessary Modules for scraping the Data"
      ],
      "metadata": {
        "id": "de5hCki0vCaM"
      }
    },
    {
      "cell_type": "code",
      "execution_count": 37,
      "metadata": {
        "id": "OqQgTh7GxQnL"
      },
      "outputs": [],
      "source": [
        "from bs4 import BeautifulSoup\n",
        "import pandas as pd\n",
        "import requests\n",
        "import numpy as np\n",
        "import re\n",
        "import datetime as dt"
      ]
    },
    {
      "cell_type": "markdown",
      "source": [
        "#### Enter the required Details of journey Date and other relevant information for scraping the Data."
      ],
      "metadata": {
        "id": "MZCY4EDYvHlc"
      }
    },
    {
      "cell_type": "code",
      "source": [
        "isValid= True\n",
        "\n",
        "while isValid:\n",
        "  try:\n",
        "    start_date , start_month , start_year = list(map(str,input(\"Enter Journey Start Date (dd-mm-yy): \").split('-')))\n",
        "    end_date , end_month , end_year = list(map(str,input(\"Enter Journey End Date (dd-mm-yy): \").split('-')))\n",
        "    dt.datetime(int(start_year),int(start_month),int(start_date))\n",
        "    dt.datetime(int(end_year),int(end_month),int(end_date))\n",
        "    isValid=False\n",
        "  except ValueError:\n",
        "     print(\"Invalid Date!!!\")\n",
        "\n",
        "Destination = input(\"Enter your Destination Place: \")\n",
        "adults , children , no_rooms =list(map(str,input(\"Enter no. of adults-children-no.of.rooms: \").split('-')))"
      ],
      "metadata": {
        "id": "WhLH6rxTg81B",
        "colab": {
          "base_uri": "https://localhost:8080/"
        },
        "outputId": "d5cd2ea4-ba37-48ff-9df7-e2060175388e"
      },
      "execution_count": 38,
      "outputs": [
        {
          "name": "stdout",
          "output_type": "stream",
          "text": [
            "Enter Journey Start Date (dd-mm-yy): 19-01-2023\n",
            "Enter Journey End Date (dd-mm-yy): 21-01-2023\n",
            "Enter your Destination Place: Mumbai\n",
            "Enter no. of adults-children-no.of.rooms: 4-2-2\n"
          ]
        }
      ]
    },
    {
      "cell_type": "markdown",
      "source": [
        "#### Functions to retrieve the Details from the website."
      ],
      "metadata": {
        "id": "9DBGQrmEvUwM"
      }
    },
    {
      "cell_type": "code",
      "source": [
        "def get_Hotel_Name(soup):\n",
        "\n",
        "    try:\n",
        "        # Outer Tag Object\n",
        "        title = soup.find(\"h2\", attrs={\"class\":'d2fee87262 pp-header__title'})\n",
        "        \n",
        "        # Inner NavigatableString Object\n",
        "        title_value = title.text\n",
        "\n",
        "        # Title as a string value\n",
        "        title_string = title_value.strip()\n",
        "\n",
        "    except AttributeError:\n",
        "        title_string = \"\"\n",
        "\n",
        "    return title_string\n",
        "\n",
        "def get_Hotel_Rating(soup):\n",
        "    try:\n",
        "        # Outer Tag Object\n",
        "        title = soup.find(\"div\", attrs={\"class\":'b5cd09854e d10a6220b4'})\n",
        "        \n",
        "        # Inner NavigatableString Object\n",
        "        title_value = title.text\n",
        "\n",
        "        # Title as a string value\n",
        "        title_string = title_value.strip()\n",
        "\n",
        "    except AttributeError:\n",
        "        title_string = \"\"\n",
        "\n",
        "    return title_string\n",
        "\n",
        "def get_Room_type(soup):\n",
        "    try:\n",
        "        # Outer Tag Object\n",
        "        title = soup.find(\"span\", attrs={\"class\":\"hprt-roomtype-icon-link\"})\n",
        "        \n",
        "        # Inner NavigatableString Object\n",
        "        title_value = title.text\n",
        "\n",
        "        # Title as a string value\n",
        "        title_string = title_value.strip()\n",
        "\n",
        "    except AttributeError:\n",
        "        title_string = \"\"\n",
        "\n",
        "    return title_string\n",
        "\n",
        "\n",
        "def get_Price(soup):\n",
        "    try:\n",
        "        # Outer Tag Object\n",
        "        title = soup.find(\"span\", attrs={\"class\":\"prco-valign-middle-helper\"})\n",
        "\n",
        "        # Inner NavigatableString Object\n",
        "        title_value = title.text\n",
        "\n",
        "        # Title as a string value\n",
        "        title_string = title_value.strip()\n",
        "\n",
        "    except AttributeError:\n",
        "        title_string = \"\"\n",
        "\n",
        "    return title_string\n",
        "\n",
        "def get_Room_Sqft(soup):\n",
        "    try:\n",
        "        # Outer Tag Object\n",
        "        title = soup.find(\"div\", attrs={\"data-name-en\":'room size'})\n",
        "        \n",
        "        # Inner NavigatableString Object\n",
        "        title_value = title.text\n",
        "\n",
        "        # Title as a string value\n",
        "        title_string = title_value.strip()\n",
        "\n",
        "    except AttributeError:\n",
        "        title_string = \"\"\n",
        "\n",
        "    return title_string\n",
        "\n",
        "def get_Hotel_Facilities(soup):\n",
        "    try:\n",
        "        new_list =[]\n",
        "        ## Getting the outer div tags\n",
        "        for item in soup.find_all(\"div\", attrs={\"class\":\"ec680921b4\"}):\n",
        "          ## For every div search for the facilitites div and extract the text\n",
        "          new_list.append(item.find(\"div\",attrs={\"class\":\"db29ecfbe2\"}).text.strip())\n",
        "\n",
        "    except AttributeError:\n",
        "       new_list=\"\"\n",
        "\n",
        "    return new_list\n",
        "\n",
        "def get_Hotel_Location(soup):\n",
        "    try:\n",
        "        # Outer Tag Object\n",
        "        title = soup.find(\"span\", attrs={\"data-node_tt_id\":\"location_score_tooltip\"})\n",
        "\n",
        "         # Inner NavigatableString Object\n",
        "        title_value = title.text\n",
        "\n",
        "        # Title as a string value\n",
        "        title_string = title_value.strip()\n",
        "\n",
        "    except AttributeError:\n",
        "        title_string = \"\"\n",
        "\n",
        "    return title_string\n",
        "\n"
      ],
      "metadata": {
        "id": "J7v5SEJA0zqk"
      },
      "execution_count": 39,
      "outputs": []
    },
    {
      "cell_type": "markdown",
      "source": [
        "#### Starter code to verify whether we are connected to the Website or Not."
      ],
      "metadata": {
        "id": "WCiGGY2svbYK"
      }
    },
    {
      "cell_type": "code",
      "source": [
        "if __name__ == '__main__':\n",
        "  HEADERS = ({'User-Agent':'Mozilla/5.0 (Windows NT 10.0; Win64; x64) AppleWebKit/537.36 (KHTML, like Gecko) Chrome/108.0.0.0 Safari/537.36','Accept-Language': 'en-US, en;q=0.5'})\n",
        "\n",
        "  URL = \"https://www.booking.com/searchresults.html?aid=304142&label=gen173rf-1FCAEoggI46AdIM1gDaGyIAQGYATG4ARfIAQzYAQHoAQH4AQKIAgGiAg1wcm9qZWN0cHJvLmlvqAIDuAKwwPadBsACAdICJDU0NThkNDAzLTM1OTMtNDRmOC1iZWQ0LTdhOTNjOTJmOWJlONgCBeACAQ&sid=2214b1422694e7b065e28995af4e22d9&sb=1&sb_lp=1&src=theme_landing_index&src_elem=sb&error_url=https%3A%2F%2Fwww.booking.com%2Fhotel%2Findex.html%3Faid%3D304142%26label%3Dgen173rf-1FCAEoggI46AdIM1gDaGyIAQGYATG4ARfIAQzYAQHoAQH4AQKIAgGiAg1wcm9qZWN0cHJvLmlvqAIDuAKwwPadBsACAdICJDU0NThkNDAzLTM1OTMtNDRmOC1iZWQ0LTdhOTNjOTJmOWJlONgCBeACAQ%26sid%3D2214b1422694e7b065e28995af4e22d9%26&ss=goa&is_ski_area=0&checkin_year=2023&checkin_month=1&checkin_monthday=13&checkout_year=2023&checkout_month=1&checkout_monthday=14&group_adults=2&group_children=0&no_rooms=1&b_h4u_keep_filters=&from_sf=1&offset=0\"\n",
        "\n",
        "  webpage = requests.get(URL,headers=HEADERS)\n",
        "  \n",
        "  soup = BeautifulSoup(webpage.content,\"html.parser\")\n",
        "\n",
        "  print(soup)"
      ],
      "metadata": {
        "id": "UzRV7vPgxaD-"
      },
      "execution_count": null,
      "outputs": []
    },
    {
      "cell_type": "markdown",
      "source": [
        "#### Main code to iterate through every Page of the website and retrieve the neccessary information about the hotels."
      ],
      "metadata": {
        "id": "p20yEiqOvhKC"
      }
    },
    {
      "cell_type": "code",
      "source": [
        "page_no=0\n",
        "d = {\"Hotel_Name\":[], \"Hotel_Rating\":[], \"Room_type\":[],\"Room_price\":[],\"Room_sqft\":[],\"Facilities\":[],\"Location\":[]}\n",
        "while (page_no<=50):\n",
        "     URL = f\"https://www.booking.com/searchresults.html?aid=304142&label=gen173rf-1FCAEoggI46AdIM1gDaGyIAQGYATG4ARfIAQzYAQHoAQH4AQKIAgGiAg1wcm9qZWN0cHJvLmlvqAIDuAKwwPadBsACAdICJDU0NThkNDAzLTM1OTMtNDRmOC1iZWQ0LTdhOTNjOTJmOWJlONgCBeACAQ&sid=2214b1422694e7b065e28995af4e22d9&sb=1&sb_lp=1&src=theme_landing_index&src_elem=sb&error_url=https%3A%2F%2Fwww.booking.com%2Fhotel%2Findex.html%3Faid%3D304142%26label%3Dgen173rf-1FCAEoggI46AdIM1gDaGyIAQGYATG4ARfIAQzYAQHoAQH4AQKIAgGiAg1wcm9qZWN0cHJvLmlvqAIDuAKwwPadBsACAdICJDU0NThkNDAzLTM1OTMtNDRmOC1iZWQ0LTdhOTNjOTJmOWJlONgCBeACAQ%26sid%3D2214b1422694e7b065e28995af4e22d9%26&ss={Destination}&is_ski_area=0&checkin_year={start_year}&checkin_month={start_month}&checkin_monthday={start_date}&checkout_year={end_year}&checkout_month={end_month}&checkout_monthday={end_date}&group_adults={adults}&group_children={children}&no_rooms={no_rooms}&b_h4u_keep_filters=&from_sf=1&offset={page_no}\"\n",
        "     new_webpage = requests.get(URL, headers=HEADERS)\n",
        "     soup = BeautifulSoup(new_webpage.content,\"html.parser\")\n",
        "     links = soup.find_all(\"a\", attrs={\"class\":\"e13098a59f\"})\n",
        "     for link in links:\n",
        "        new_webpage = requests.get(link.get('href'), headers=HEADERS)\n",
        "        new_soup = BeautifulSoup(new_webpage.content, \"html.parser\")\n",
        "        d[\"Hotel_Name\"].append(get_Hotel_Name(new_soup))\n",
        "        d[\"Hotel_Rating\"].append(get_Hotel_Rating(new_soup))\n",
        "        d[\"Room_type\"].append(get_Room_type(new_soup))\n",
        "        d[\"Room_price\"].append(get_Price(new_soup))\n",
        "        d[\"Room_sqft\"].append(get_Room_Sqft(new_soup))\n",
        "        d[\"Facilities\"].append(get_Hotel_Facilities(new_soup))\n",
        "        d[\"Location\"].append(get_Hotel_Location(new_soup))\n",
        "\n",
        "     page_no += 25"
      ],
      "metadata": {
        "id": "8qOGypUBnBIT"
      },
      "execution_count": 41,
      "outputs": []
    },
    {
      "cell_type": "markdown",
      "source": [
        "#### Converting the Resultant dictionary to Pandas DataFrame."
      ],
      "metadata": {
        "id": "IpkdQcMXvq4k"
      }
    },
    {
      "cell_type": "markdown",
      "source": [
        "#### We have Successfully Scraped the Data from the Booking.com Website."
      ],
      "metadata": {
        "id": "YeDizxzZv0QV"
      }
    },
    {
      "cell_type": "code",
      "source": [
        "Hotel_df = pd.DataFrame.from_dict(d)\n",
        "Hotel_df.to_csv(\"Hotel_data.csv\", header=True, index=False)\n",
        "print(Hotel_df.head())"
      ],
      "metadata": {
        "colab": {
          "base_uri": "https://localhost:8080/"
        },
        "id": "QEdrROWsYSar",
        "outputId": "bc8a17c7-42fd-4141-a1e5-9ce3ce787d0c"
      },
      "execution_count": 43,
      "outputs": [
        {
          "output_type": "stream",
          "name": "stdout",
          "text": [
            "                                  Hotel_Name Hotel_Rating  \\\n",
            "0                  Novotel Mumbai Juhu Beach          6.7   \n",
            "1                      Trident Nariman Point          8.8   \n",
            "2       Novotel Mumbai International Airport          7.8   \n",
            "3  OYO Flagship 80682 Hotel Golden Residency                \n",
            "4                     Hotel Ariana Residency          7.2   \n",
            "\n",
            "                            Room_type Room_price  Room_sqft  \\\n",
            "0  Superior Twin Room with Ocean View       $785  312 feet²   \n",
            "1              Trident Preferred Room       $748  301 feet²   \n",
            "2                  Standard King Room       $537  357 feet²   \n",
            "3                 Classic Triple Room       $130              \n",
            "4                  Deluxe Double Room       $294  200 feet²   \n",
            "\n",
            "                                          Facilities  \\\n",
            "0  [Free parking, Pet friendly, Swimming pool, Re...   \n",
            "1  [Free parking, Swimming pool, Restaurant, Spa,...   \n",
            "2  [Swimming pool, Free WiFi, Free parking, Air c...   \n",
            "3  [Air conditioning, Private Bathroom, Free WiFi...   \n",
            "4  [Restaurant, Air conditioning, Private Bathroo...   \n",
            "\n",
            "                                            Location  \n",
            "0  Juhu Beach, Maharastra, Juhu, 400049 Mumbai, I...  \n",
            "1                Nariman Point, 400021 Mumbai, India  \n",
            "2  CTS 1359 Marol Next to Airport Metro Station e...  \n",
            "3  plot no 9 Lala Compound , near takshila police...  \n",
            "4  Opposite Apna Bazar, Dhake Colony, J.P. Road, ...  \n"
          ]
        }
      ]
    },
    {
      "cell_type": "code",
      "source": [],
      "metadata": {
        "id": "q81Mc9cF4_yI"
      },
      "execution_count": null,
      "outputs": []
    }
  ]
}